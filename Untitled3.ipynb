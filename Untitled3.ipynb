{
  "nbformat": 4,
  "nbformat_minor": 0,
  "metadata": {
    "colab": {
      "provenance": [],
      "authorship_tag": "ABX9TyMZsa0qt56SkVgYry9I0Mki",
      "include_colab_link": true
    },
    "kernelspec": {
      "name": "python3",
      "display_name": "Python 3"
    },
    "language_info": {
      "name": "python"
    }
  },
  "cells": [
    {
      "cell_type": "markdown",
      "metadata": {
        "id": "view-in-github",
        "colab_type": "text"
      },
      "source": [
        "<a href=\"https://colab.research.google.com/github/diogosalles292/Aula2SENAI/blob/main/Untitled3.ipynb\" target=\"_parent\"><img src=\"https://colab.research.google.com/assets/colab-badge.svg\" alt=\"Open In Colab\"/></a>"
      ]
    },
    {
      "cell_type": "code",
      "execution_count": 2,
      "metadata": {
        "colab": {
          "base_uri": "https://localhost:8080/"
        },
        "id": "uXz-f2LznaIg",
        "outputId": "e2e2f140-38f5-4151-f991-b32901a29638"
      },
      "outputs": [
        {
          "output_type": "stream",
          "name": "stdout",
          "text": [
            "[2, 2, 3, 3, 155]\n"
          ]
        }
      ],
      "source": [
        "# numeros = [3, 1, 4, 1, 5, 9, 2, 6, 5, 3, 5]\n",
        "# numeros_ordenados = sorted(numeros)\n",
        "\n",
        "list1 = [2,2,3,155,3]\n",
        "list2 = sorted(list1)\n",
        "print(list2)\n",
        "\n",
        "\n"
      ]
    },
    {
      "cell_type": "code",
      "source": [
        "# texto = \"2255\"\n",
        "# comprimento = len(texto)\n",
        "# print(comprimento)\n",
        "\n",
        "\n",
        "# x = \"Guarulhos\"\n",
        "# y = type(x)\n",
        "# print(y)\n",
        "\n",
        "# int\n",
        "# numero1 = \"2\"\n",
        "# n1 = int(numero1)\n",
        "# print(n1)\n",
        "\n",
        "# n1 = 250\n",
        "# c = str(n1)\n",
        "# print(c , \"ola mundo\")\n",
        "\n",
        "# lista = [1,2,3,3,5,9,6,\"diogo\",3,4]\n",
        "# print(lista)\n",
        "\n",
        "# text = \"boa tarde \"\n",
        "# lista = list(text)\n",
        "# print(lista[1])\n",
        "\n",
        "# tuple\n",
        "\n",
        "# list = \"ola mundo\"\n",
        "# list2 = tuple(list)\n",
        "# print(list)\n",
        "\n",
        "\n",
        "# numeros = range(1,11)\n",
        "# for i in numeros:\n",
        "#     print(numeros)\n",
        "\n",
        "\n",
        "# sun\n",
        "# list = [1, 2, 3, 4, 10]\n",
        "# soma = sum(list)\n",
        "# print(soma)\n",
        "\n",
        "# nome = 'bom dia'\n",
        "# n1 = min(nome)\n",
        "# print(n1)\n",
        "\n",
        "# list1 = [2,2,3,155,3]\n",
        "# list2 = sorted(list1)\n",
        "# print(list2)\n",
        "\n",
        "\n",
        "\n",
        "# Exercício 1: Escreva um programa que use a função range() para gerar os números pares de 2 a 20 e, em seguida, imprima cada número.\n",
        "\n",
        "# numeros = range(2,21,2)\n",
        "# for i in numeros:\n",
        "#   print(i)\n",
        "\n",
        "# Exercício 2: Escreva um programa que use a função range() para gerar os múltiplos de 5 de 5 a 50 e, em seguida, calcule e imprima a soma desses múltiplos.\n",
        "\n",
        "# numeros = range(5,51,5)\n",
        "# soma = sum(numeros)\n",
        "# for i in numeros:\n",
        "#     print(i)\n",
        "#     print(soma)\n",
        "\n",
        "# Exercício 3: Escreva um programa que use a função type() para verificar o tipo de uma variável.\n",
        "\n",
        "# saudaçao = \"bom dia\"\n",
        "# funçao = type(saudaçao)\n",
        "# print(funçao)\n",
        "\n",
        "# Exercício 4: Escreva um programa que use a função print() para imprimir uma mensagem de saudação personalizada, incluindo o nome do usuário.\n",
        "\n",
        "# saudação = \"tenha um bom dia\"\n",
        "# nome = \"Diogo Salles\"\n",
        "\n",
        "# print(saudação ,nome)\n",
        "\n",
        "# Exercício 5: Escreva um programa que use a função `range()` para gerar os números ímpares de 1 a 10 e, em seguida, calcule e imprima a média desses números.\n",
        "\n",
        "# numeros = range(1,11,2)\n",
        "# soma = sum(numeros)\n",
        "# # for i in numeros:\n",
        "#     # print(i)\n",
        "# print(soma/2)\n"
      ],
      "metadata": {
        "id": "b4zxP5uc74cJ"
      },
      "execution_count": null,
      "outputs": []
    },
    {
      "cell_type": "code",
      "source": [
        "frutas = [\"macã\", \"banana\", \"laranja\"]\n",
        "for fruta in frutas:\n",
        "    print(fruta)\n"
      ],
      "metadata": {
        "colab": {
          "base_uri": "https://localhost:8080/"
        },
        "id": "8FBZotJ--sKv",
        "outputId": "6af099fe-5f62-49db-e295-83be5d186aa1"
      },
      "execution_count": 4,
      "outputs": [
        {
          "output_type": "stream",
          "name": "stdout",
          "text": [
            "macã\n",
            "banana\n",
            "laranja\n"
          ]
        }
      ]
    },
    {
      "cell_type": "code",
      "source": [
        "nome = input(\"digite seu nome\")\n",
        "lista = list[nome]\n",
        "print(lista)"
      ],
      "metadata": {
        "colab": {
          "base_uri": "https://localhost:8080/"
        },
        "id": "ZnHtJax7H-kF",
        "outputId": "9e3b6a55-1964-4e4f-ac81-4f331f5f9308"
      },
      "execution_count": 5,
      "outputs": [
        {
          "output_type": "stream",
          "name": "stdout",
          "text": [
            "digite seu nomediogo\n",
            "list['diogo']\n"
          ]
        }
      ]
    },
    {
      "cell_type": "code",
      "source": [
        "# texto = \"2255\"\n",
        "# comprimento = len(texto)\n",
        "# print(comprimento)\n",
        "\n",
        "\n",
        "# x = \"Guarulhos\"\n",
        "# y = type(x)\n",
        "# print(y)\n",
        "\n",
        "# int\n",
        "# numero1 = \"2\"\n",
        "# n1 = int(numero1)\n",
        "# print(n1)\n",
        "\n",
        "# n1 = 250\n",
        "# c = str(n1)\n",
        "# print(c , \"ola mundo\")\n",
        "\n",
        "# lista = [1,2,3,3,5,9,6,\"diogo\",3,4]\n",
        "# print(lista)\n",
        "\n",
        "# text = \"boa tarde \"\n",
        "# lista = list(text)\n",
        "# print(lista[1])\n",
        "\n",
        "# tuple\n",
        "\n",
        "# list = \"ola mundo\"\n",
        "# list2 = tuple(list)\n",
        "# print(list)\n",
        "\n",
        "\n",
        "# numeros = range(1,11)\n",
        "# for i in numeros:\n",
        "#     print(numeros)\n",
        "\n",
        "\n",
        "# sun\n",
        "# list = [1, 2, 3, 4, 10]\n",
        "# soma = sum(list)\n",
        "# print(soma)\n",
        "\n",
        "# nome = 'bom dia'\n",
        "# n1 = min(nome)\n",
        "# print(n1)\n",
        "\n",
        "# list1 = [2,2,3,155,3]\n",
        "# list2 = sorted(list1)\n",
        "# print(list2)\n",
        "\n",
        "\n",
        "\n",
        "# Exercício 1: Escreva um programa que use a função range() para gerar os números pares de 2 a 20 e, em seguida, imprima cada número.\n",
        "\n",
        "# numeros = range(2,21,2)\n",
        "# for i in numeros:\n",
        "#   print(i)\n",
        "\n",
        "# Exercício 2: Escreva um programa que use a função range() para gerar os múltiplos de 5 de 5 a 50 e, em seguida, calcule e imprima a soma desses múltiplos.\n",
        "\n",
        "# numeros = range(5,51,5)\n",
        "# soma = sum(numeros)\n",
        "# for i in numeros:\n",
        "#     print(i)\n",
        "#     print(soma)\n",
        "\n",
        "# Exercício 3: Escreva um programa que use a função type() para verificar o tipo de uma variável.\n",
        "\n",
        "# saudaçao = \"bom dia\"\n",
        "# funçao = type(saudaçao)\n",
        "# print(funçao)\n",
        "\n",
        "# Exercício 4: Escreva um programa que use a função print() para imprimir uma mensagem de saudação personalizada, incluindo o nome do usuário.\n",
        "\n",
        "# saudação = \"tenha um bom dia\"\n",
        "# nome = \"Diogo Salles\"\n",
        "\n",
        "# print(saudação ,nome)\n",
        "\n",
        "# Exercício 5: Escreva um programa que use a função `range()` para gerar os números ímpares de 1 a 10 e, em seguida, calcule e imprima a média desses números.\n",
        "\n",
        "# numeros = range(1,11,2)\n",
        "# soma = sum(numeros)\n",
        "# # for i in numeros:\n",
        "#     # print(i)\n",
        "# print(soma/2)\n",
        "\n",
        "# for i in range(1,51,2):\n",
        "#     print(i) #+,/,-, etc\n",
        "\n",
        "# word = \"ola mundo\"\n",
        "# for i in word:\n",
        "#     print(i+1)\n",
        "\n",
        "# lista = [\"a\",\"b\",\"c\"]\n",
        "# for i in lista:\n",
        "#     if i == \"b\":\n",
        "#      print(\"não faça isso\")\n",
        "#     else:\n",
        "#        print(\"faça isso\")\n",
        "\n",
        "#Exercício 1: Escreva um programa que use a função range() para gerar os números pares de 2 a 20 e, em seguida, imprima cada número.\n",
        "\n",
        "# numeros = range(2,21,2)\n",
        "# for i in numeros:\n",
        "#   print(i)\n",
        "\n",
        "# **Exercício 2:** Escreva um programa que imprima os números pares de 2 a 20.\n",
        "\n",
        "# numeros = range(2,21,2)\n",
        "# for i in numeros:\n",
        "#   print(i)\n",
        "\n",
        "# Exercício 3: Escreva um programa que calcule a soma dos números de 1 a 100\n",
        "\n",
        "# numeros = range(1,101,1)\n",
        "# soma = sum(numeros)\n",
        "# print(soma)\n",
        "\n",
        "# Exercício 4: Escreva um programa que imprima os múltiplos de 5 de 5 a 50.\n",
        "\n",
        "# numeros = range(5,51,5)\n",
        "# for i in numeros:\n",
        "#    print(i)\n",
        "\n",
        "# **Exercício 5:** Escreva um programa que peça ao usuário para digitar seu nome e imprima cada caractere do nome em uma linha separada.\n",
        "\n",
        "# nome = input(\"digite seu nome\")\n",
        "# lista = tuple(nome)\n",
        "# print(lista)"
      ],
      "metadata": {
        "id": "Rq6cAl01I_eV"
      },
      "execution_count": null,
      "outputs": []
    }
  ]
}