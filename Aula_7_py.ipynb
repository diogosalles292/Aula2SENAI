{
  "nbformat": 4,
  "nbformat_minor": 0,
  "metadata": {
    "colab": {
      "provenance": [],
      "authorship_tag": "ABX9TyOHZGeEaCmF8S7SixM2nYdy",
      "include_colab_link": true
    },
    "kernelspec": {
      "name": "python3",
      "display_name": "Python 3"
    },
    "language_info": {
      "name": "python"
    }
  },
  "cells": [
    {
      "cell_type": "markdown",
      "metadata": {
        "id": "view-in-github",
        "colab_type": "text"
      },
      "source": [
        "<a href=\"https://colab.research.google.com/github/diogosalles292/Aula5/blob/main/Aula_7_py.ipynb\" target=\"_parent\"><img src=\"https://colab.research.google.com/assets/colab-badge.svg\" alt=\"Open In Colab\"/></a>"
      ]
    },
    {
      "cell_type": "code",
      "execution_count": 2,
      "metadata": {
        "colab": {
          "base_uri": "https://localhost:8080/"
        },
        "id": "FDYEIjTb39Jj",
        "outputId": "c6f94b4c-1e9d-436a-bb00-b93ca47499fa"
      },
      "outputs": [
        {
          "output_type": "stream",
          "name": "stdout",
          "text": [
            "digite um numero entre 12 e 24: 19\n",
            "você errou, o numero é 16, só tem 2, chances\n",
            "digitar um numero entre 12 e 24: 15\n",
            "você errou, o numero é 16, só tem 1, chances\n",
            "digitar um numero entre 12 e 24: 14\n",
            "você errou, o numero é 16, só tem 0, chances\n",
            "digitar um numero entre 12 e 24: 8\n",
            "Você esgotou sua chances\n"
          ]
        }
      ],
      "source": [
        "import random\n",
        "\n",
        "# # gera um numero aleatorio com ponto flutuante\n",
        "# numero_aleatorio = random.random()\n",
        "# print(numero_aleatorio)\n",
        "\n",
        "# # gera um numero numero_aleatorio inteiro\n",
        "# numero_aleatorio2 = random.randint(10,25)\n",
        "# print(numero_aleatorio2)\n",
        "\n",
        "\n",
        "\n",
        "chute = input(\"digite um numero entre 12 e 24: \")\n",
        "numero_aleatorio = random.randint(12,25)\n",
        "chances = 3\n",
        "\n",
        "while chances <= 3:\n",
        "\n",
        " if chute == numero_aleatorio:\n",
        "    print(f'Você acertou, o numero é {numero_aleatorio}')\n",
        "    break\n",
        "\n",
        "\n",
        " if chute != numero_aleatorio:\n",
        "    chances = chances -1\n",
        "    print(f'você errou, o numero é {numero_aleatorio}, só tem {chances}, chances')\n",
        "    chute = input(\"digitar um numero entre 12 e 24: \")\n",
        "\n",
        "\n",
        " if chances == 0:\n",
        "    print(\"Você esgotou sua chances\")\n",
        "    break"
      ]
    },
    {
      "cell_type": "code",
      "source": [
        "# while chances <= 3:\n",
        "\n",
        "#  if chute == numero_aleatorio:\n",
        "#     print(f'Você acertou, o numero é {numero_aleatorio}')\n",
        "#     break\n",
        "\n",
        "\n",
        "#  if chute != numero_aleatorio:\n",
        "#     chances = chances - 1\n",
        "#     print(f'você errou, o numero é {numero_aleatorio}, só tem {chances}, chances')\n",
        "#     chute = input(\"digitar um numero entre 12 e 24: \")\n",
        "\n",
        "\n",
        "#  if chances == 0:\n",
        "#     print(\"Você esgotou sua chances\")\n",
        "#     break"
      ],
      "metadata": {
        "id": "Ka9vQUlo9xHi"
      },
      "execution_count": null,
      "outputs": []
    }
  ]
}