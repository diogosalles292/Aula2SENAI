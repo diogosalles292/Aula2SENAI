{
  "nbformat": 4,
  "nbformat_minor": 0,
  "metadata": {
    "colab": {
      "provenance": [],
      "authorship_tag": "ABX9TyMioMgrYHKpvjQ8TeDWflIQ",
      "include_colab_link": true
    },
    "kernelspec": {
      "name": "python3",
      "display_name": "Python 3"
    },
    "language_info": {
      "name": "python"
    }
  },
  "cells": [
    {
      "cell_type": "markdown",
      "metadata": {
        "id": "view-in-github",
        "colab_type": "text"
      },
      "source": [
        "<a href=\"https://colab.research.google.com/github/diogosalles292/Aula5/blob/main/Aul6.ipynb\" target=\"_parent\"><img src=\"https://colab.research.google.com/assets/colab-badge.svg\" alt=\"Open In Colab\"/></a>"
      ]
    },
    {
      "cell_type": "code",
      "execution_count": null,
      "metadata": {
        "id": "R3HRMOdjhZNO"
      },
      "outputs": [],
      "source": [
        "# nome = \"Diogo\"\n",
        "# indices comecçam com 0\n",
        "#.append adiciona\n",
        "# lista.append(10)v\n",
        "\n",
        "\n",
        "# lista = [1,2,3,4,\"casa\", True]\n",
        "# print(lista)\n",
        "\n",
        "# lista2 = [1,2,33,23,556,]\n",
        "# # lista2.remove(33) *pelo valor que esta na lista\n",
        "# # print(lista2)\n",
        "\n",
        "# del lista2[4] *pelo indice da lista\n",
        "# print(lista2)\n",
        "\n",
        "# lista3 = [1,2,3,65,3,55,998,33,45]\n",
        "# comprimento = len(lista3)\n",
        "# print(comprimento)\n",
        "\n",
        "# lista5 = [1,2,3,6,5,44,55,77,99,74]\n",
        "# for i in lista5:\n",
        "#     print(i)\n",
        "\n",
        "\n",
        "#................                 .......................................           ........................               ..........................           .................. .\n",
        "\n",
        "\n",
        "# **Exercício 1:** Crie uma lista chamada `numeros` que contenha os números inteiros de 1 a 5 e imprima-a na tela.\n",
        "\n",
        "numeros = [1, 2, 3, 4, 5]\n",
        "# print(numeros)\n",
        "\n",
        "# Exercício 2: Acesse e imprima o terceiro elemento da lista numeros.\n",
        "\n",
        "# print(numeros[3])\n",
        "\n",
        "# Exercício 3: Adicione o número 6 à lista numeros e imprima a lista atualizada\n",
        "\n",
        "# numeros.append(6)\n",
        "# print(numeros)\n",
        "\n",
        "# **Exercício 4:** Remova o número 3 da lista `numeros` e imprima a lista resultante.\n",
        "\n",
        "# numeros.remove(3)\n",
        "# print(numeros)\n",
        "\n",
        "# Exercício 5: Crie uma lista chamada frutas contendo três nomes de frutas diferentes. Em seguida, concatene essa lista com a lista numeros e imprima o resultado.\n",
        "\n",
        "# frutas = [\"Abacaxi\", \"pessego\", \"uva\"]\n",
        "# print(numeros, frutas)\n",
        "\n",
        "# **Exercício 6:** Use um loop `for` para percorrer e imprimir todos os elementos da lista `frutas`.\n",
        "# for i in frutas:\n",
        "#     print(i)\n",
        "\n",
        "# Exercício 7: Verifique se o número 5 está presente na lista numeros e imprima uma mensagem informando se ele está na lista ou não.\n"
      ]
    }
  ]
}